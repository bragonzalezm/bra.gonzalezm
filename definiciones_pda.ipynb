{
  "nbformat": 4,
  "nbformat_minor": 0,
  "metadata": {
    "colab": {
      "provenance": []
    },
    "kernelspec": {
      "name": "python3",
      "display_name": "Python 3"
    },
    "language_info": {
      "name": "python"
    }
  },
  "cells": [
    {
      "cell_type": "code",
      "execution_count": null,
      "metadata": {
        "colab": {
          "base_uri": "https://localhost:8080/"
        },
        "id": "uLSLY6qi7cAo",
        "outputId": "7e522211-5332-4f2a-8215-8a5c7b59bcde"
      },
      "outputs": [
        {
          "output_type": "stream",
          "name": "stdout",
          "text": [
            "Ingrese primer numero: 5\n",
            "Ingrese segundo numero: 4\n",
            "El resultado de la suma es:  9\n"
          ]
        }
      ],
      "source": [
        "def sumar(a, b):\n",
        "  suma = a + b\n",
        "  return(suma)\n",
        "\n",
        "num1 = int(input(\"Ingrese primer numero: \"))\n",
        "num2 = int(input(\"Ingrese segundo numero: \"))\n",
        "print(f\"El resultado de la suma es: \", sumar(num1, num2))"
      ]
    },
    {
      "cell_type": "code",
      "source": [
        "def varios_valores(*args):\n",
        "  for arg in args:\n",
        "    print(arg)\n",
        "\n",
        "varios_valores(4.5, \"Buen dia\",[1, 2, 3, 4, 5])"
      ],
      "metadata": {
        "colab": {
          "base_uri": "https://localhost:8080/"
        },
        "id": "cM9WPZHbACEa",
        "outputId": "3a8602a5-b246-434f-8467-fe3912592c66"
      },
      "execution_count": null,
      "outputs": [
        {
          "output_type": "stream",
          "name": "stdout",
          "text": [
            "4.5\n",
            "Buen dia\n",
            "[1, 2, 3, 4, 5]\n"
          ]
        }
      ]
    },
    {
      "cell_type": "code",
      "source": [
        "#Ejercicio 2\n",
        "def resta(a, b):\n",
        "  return a - b\n",
        "\n",
        "resta(b = 30, a = 10)\n"
      ],
      "metadata": {
        "colab": {
          "base_uri": "https://localhost:8080/"
        },
        "id": "2VCavDLzCrvr",
        "outputId": "9e3191c3-813f-42ec-f1df-60d8a47ebcdc"
      },
      "execution_count": null,
      "outputs": [
        {
          "output_type": "execute_result",
          "data": {
            "text/plain": [
              "-20"
            ]
          },
          "metadata": {},
          "execution_count": 7
        }
      ]
    },
    {
      "cell_type": "code",
      "source": [
        "def calcular_iva(precio):\n",
        "  iva = 0.19\n",
        "  return precio*iva\n",
        "\n",
        "precio = float(input(\"Valor producto: \"))\n",
        "print(\"El IVA a pagar es de: \", str(calcular_iva(precio)))"
      ],
      "metadata": {
        "colab": {
          "base_uri": "https://localhost:8080/"
        },
        "id": "1ho5jBN5C690",
        "outputId": "848ac806-9bdb-4664-b64b-23822e01062a"
      },
      "execution_count": null,
      "outputs": [
        {
          "output_type": "stream",
          "name": "stdout",
          "text": [
            "Valor producto: 10000\n",
            "El IVA a pagar es de:  1900.0\n"
          ]
        }
      ]
    },
    {
      "cell_type": "code",
      "source": [
        "def descuento(prod, desc):\n",
        "  v_final = prod - (prod*desc/100)\n",
        "  return v_final\n",
        "\n",
        "productos = [1000, 50]\n",
        "\n",
        "print(\"El valor de producto con el descuento es de: \", str(descuento(*productos)))"
      ],
      "metadata": {
        "colab": {
          "base_uri": "https://localhost:8080/"
        },
        "id": "toR6InWsEjzc",
        "outputId": "1c34d6f4-59c6-4aa1-f137-bca781a89797"
      },
      "execution_count": null,
      "outputs": [
        {
          "output_type": "stream",
          "name": "stdout",
          "text": [
            "El valor de producto con el descuento es de:  500.0\n"
          ]
        }
      ]
    },
    {
      "cell_type": "code",
      "source": [
        "def descuento(prod, desc):\n",
        "  v_final = prod - (prod*desc/100)\n",
        "  return v_final\n",
        "\n",
        "chocman = \"Chocman de oro\"\n",
        "producto = 1_000_000\n",
        "cant_descuento = 99\n",
        "print(f\"El valor final del {chocman} con descuento de {cant_descuento}% : \", str(descuento(producto, cant_descuento)))"
      ],
      "metadata": {
        "colab": {
          "base_uri": "https://localhost:8080/"
        },
        "id": "ECn0Vsk9HQ-L",
        "outputId": "9ee011ba-b732-4aad-fd8c-cf8ba258c67e"
      },
      "execution_count": null,
      "outputs": [
        {
          "output_type": "stream",
          "name": "stdout",
          "text": [
            "El valor final del Chocman de oro con descuento de 99% :  10000.0\n"
          ]
        }
      ]
    },
    {
      "cell_type": "code",
      "source": [
        "def descuento(prod, desc):\n",
        "  v_final = prod - (prod*desc/100)\n",
        "  return v_final\n",
        "\n",
        "chocman = \"Chocman de oro\"\n",
        "producto = float(input(\"Ingrese el valor del producto: \"))\n",
        "cant_descuento = float(input(\"Ingrese el descuento a agregar: \"))\n",
        "print(f\"El valor final del {chocman} con descuento de {cant_descuento}% : \", str(descuento(producto, cant_descuento)))"
      ],
      "metadata": {
        "colab": {
          "base_uri": "https://localhost:8080/"
        },
        "id": "bsL-p9_7Kf0P",
        "outputId": "1a1c6c79-8b61-4da9-8d10-8b03badd9378"
      },
      "execution_count": null,
      "outputs": [
        {
          "output_type": "stream",
          "name": "stdout",
          "text": [
            "Ingrese el valor del producto: 100\n",
            "Ingrese el descuento a agregar: 19\n",
            "El valor final del Chocman de oro con descuento de 19.0% :  81.0\n"
          ]
        }
      ]
    },
    {
      "cell_type": "code",
      "source": [
        "def calcular_imc(peso, altura):\n",
        "  imc = peso / altura ** 2\n",
        "  return imc\n",
        "\n",
        "peso = float(input(\"Ingrese su peso: \"))\n",
        "altura = float(input(\"Ingrese su altura: \"))\n",
        "print(\"Su indice de masa corporal es de: \", str(calcular_imc(peso, altura)))\n"
      ],
      "metadata": {
        "colab": {
          "base_uri": "https://localhost:8080/"
        },
        "id": "wtgCO3PWFh_O",
        "outputId": "3d697875-ee57-4241-f9be-363ae3b18f09"
      },
      "execution_count": null,
      "outputs": [
        {
          "output_type": "stream",
          "name": "stdout",
          "text": [
            "Ingrese su peso: 100\n",
            "Ingrese su altura: 2\n",
            "Su indice de masa corporal es de:  25.0\n"
          ]
        }
      ]
    },
    {
      "cell_type": "markdown",
      "source": [
        "Hacer el menu entero,juntar todos los cosas"
      ],
      "metadata": {
        "id": "-SSNwQoDNkNx"
      }
    },
    {
      "cell_type": "code",
      "source": [
        "def suma():\n",
        "  var1 = 10\n",
        "  var2 = 20\n",
        "  total = var1 + var2\n",
        "  print(f\"Resultado es: \", total)\n",
        "\n",
        "suma()"
      ],
      "metadata": {
        "id": "6Ojc5qm0FwHv",
        "colab": {
          "base_uri": "https://localhost:8080/"
        },
        "outputId": "ecae07f0-e381-46a3-a863-a00ea5b294fc"
      },
      "execution_count": null,
      "outputs": [
        {
          "output_type": "stream",
          "name": "stdout",
          "text": [
            "Resultado es: 30 \n"
          ]
        }
      ]
    },
    {
      "cell_type": "code",
      "source": [
        "def suma():\n",
        "  var1 = 10\n",
        "  var2 = 20\n",
        "  total = var1 + var2\n",
        "  return total\n",
        "\n",
        "print(\"texto\", suma())\n"
      ],
      "metadata": {
        "colab": {
          "base_uri": "https://localhost:8080/"
        },
        "id": "5FUlfDUZXk9Y",
        "outputId": "478940de-108a-4a3d-e73f-a8deb4338351"
      },
      "execution_count": null,
      "outputs": [
        {
          "output_type": "stream",
          "name": "stdout",
          "text": [
            "texto 10\n"
          ]
        }
      ]
    },
    {
      "cell_type": "code",
      "source": [
        "# busque el codigo tanto de producto y despliegue descripcio y precio."
      ],
      "metadata": {
        "id": "am31-N49XrIg"
      },
      "execution_count": null,
      "outputs": []
    },
    {
      "cell_type": "code",
      "source": [
        "def suma(var1, var2):\n",
        "  total = var1 + var2\n",
        "  return total\n",
        "\n",
        "var1 = 10\n",
        "var2 = 20\n",
        "print(\"Resultado: \", suma(var1, var2))"
      ],
      "metadata": {
        "colab": {
          "base_uri": "https://localhost:8080/"
        },
        "id": "spECWZtFYwHe",
        "outputId": "b166da48-58c5-4344-c6a5-895e2ba5ecad"
      },
      "execution_count": null,
      "outputs": [
        {
          "output_type": "stream",
          "name": "stdout",
          "text": [
            "Resultado:  30\n"
          ]
        }
      ]
    },
    {
      "cell_type": "markdown",
      "source": [
        "un local de comida para mascotas necesita capturar los pedidos de sus clientes, para saber cual  cuales son los productos más vendidos en un dia.\n",
        "tabla de productos"
      ],
      "metadata": {
        "id": "CFOk3EehZx-j"
      }
    },
    {
      "cell_type": "code",
      "source": [
        "producto = [[\"01001\", \"catshaw 10kg\", 1, 25_500],\n",
        "            [\"01002\", \"Fitformula 10kg\", 1, 29_600],\n",
        "            [\"01003\", \"Cachupin gato 20kg\", 1, 18_500],\n",
        "            [\"01004\", \"purofilete 10kg\", 1, 58_600]]"
      ],
      "metadata": {
        "id": "TmUD6v-XaWu1"
      },
      "execution_count": null,
      "outputs": []
    },
    {
      "cell_type": "markdown",
      "source": [
        "Se debe permitir eliminar un pedido, emitir una boleta, emitir reporte de productos más vendidos.\n",
        "ultilizar sistema menú, funciones, arreglos o listas, validacion de errores."
      ],
      "metadata": {
        "id": "HwZhqzzgcGW3"
      }
    },
    {
      "cell_type": "code",
      "source": [
        "import numpy as np\n",
        "\n",
        "def menu_principal():\n",
        "  print(\"1.- Catshaw 10kg.\")\n",
        "  print(\"2.- Fitformula 10kg\")\n",
        "  print(\"3.- Fitformula 10kg\")\n",
        "  print(\"4.- Fitformula 10kg\")\n",
        "  selec = int(input(\"Escoja una opcion del menú: \"))\n",
        "  return selec\n",
        "\n",
        "producto = [[\"01001\", \"catshaw 10kg\", 1, 25_500],\n",
        "            [\"01002\", \"Fitformula 10kg\", 1, 29_600],\n",
        "            [\"01003\", \"Cachupin gato 20kg\", 1, 18_500],\n",
        "            [\"01004\", \"purofilete 10kg\", 1, 58_600]]\n",
        "inventario = np.array(producto)\n",
        "\n",
        "menu_principal()\n",
        "\n",
        "inventario[0, 2] = 0\n",
        "\n",
        "print(inventario[0, :])"
      ],
      "metadata": {
        "colab": {
          "base_uri": "https://localhost:8080/"
        },
        "id": "yE33b8EsbRPb",
        "outputId": "12ec8161-e6c6-441d-82c9-e62865aaf526"
      },
      "execution_count": null,
      "outputs": [
        {
          "output_type": "stream",
          "name": "stdout",
          "text": [
            "1.- Catshaw 10kg.\n",
            "2.- Fitformula 10kg\n",
            "3.- Fitformula 10kg\n",
            "4.- Fitformula 10kg\n",
            "Escoja una opcion del menú: 1\n",
            "['01001' 'catshaw 10kg' '0' '25500']\n"
          ]
        }
      ]
    }
  ]
}